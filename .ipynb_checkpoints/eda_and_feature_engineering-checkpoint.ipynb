{
 "cells": [
  {
   "cell_type": "markdown",
   "id": "52213e68",
   "metadata": {
    "heading_collapsed": true
   },
   "source": [
    "# Defining the Problem"
   ]
  },
  {
   "cell_type": "markdown",
   "id": "0f220a2c",
   "metadata": {
    "hidden": true
   },
   "source": [
    "**This project aims to predict credit card customer default payments in the next month**\n",
    "\n",
    "Early detection of default payments would help financial institution on risk assessment and provide an objective decision making for the following:\n",
    "\n",
    "+ Approval for future increase or decrease in credit facilities\n",
    "+ Interest rates based on customer risk\n",
    "+ Identify potential debt repayment schemes for targeted customers"
   ]
  },
  {
   "cell_type": "markdown",
   "id": "cdff9221",
   "metadata": {
    "hidden": true
   },
   "source": [
    "We will work with a dataset containing information on default payments, demographic factors, credit data, history of payment, and bill statements of credit card clients in Taiwan from April 2005 to September 2005.\n",
    "\n",
    "[Documentation](https://archive-beta.ics.uci.edu/ml/datasets/default+of+credit+card+clients#Descriptive)\n",
    "\n",
    "\n",
    "+ ***LIMIT_BAL Amount of the given credit (NT dollar):***: it includes both the individual consumer credit and his/her family (supplementary) credit.\n",
    "\n",
    "+ ***SEX: Gender***: (1 = male; 2 = female).\n",
    "\n",
    "+ ***EDUCATION: Education***:(1 = graduate school; 2 = university; 3 = high school; 0, 4, 5, 6 = others).\n",
    "\n",
    "+ ***MARRIAGE Marital status***: (1 = married; 2 = single; 3 = divorce; 0=others).\n",
    "\n",
    "+ ***AGE: Age***: (year).\n",
    "\n",
    "+ ***PAY_0 - PAY_6: History of past payment. We tracked the past monthly payment records (from April to September, 2005) as follows:***: PAY_0 = the repayment status in September, 2005; PAY_3 = the repayment status in August, 2005; . . .;PAY_6 = the repayment status in April, 2005. ***The measurement scale for the repayment status is:***-2: No consumption; -1: Paid in full; 0: The use of revolving credit; 1 = payment delay for one month; 2 = payment delay for two months; . . .; 8 = payment delay for eight months; 9 = payment delay for nine months and above.\n",
    "\n",
    "+ ***BILL_AMT1-BILL_AMT6 Amount of bill statement (NT dollar).*** BILL_AMT1 = amount of bill statement in September, 2005; BILL_AMT2 = amount of bill statement in August, 2005; . . .; BILL_AMT6 = amount of bill statement in April, 2005.\n",
    "\n",
    "+ ***PAY_AMT1-PAY_AMT2: Amount of previous payment (NT dollar).***: PAY_AMT1 = amount paid in September, 2005; X19 = amount paid in August, 2005; . . .;PAY_AMT2 = amount paid in April, 2005.\n",
    "\n",
    "+ ***default payment next month (Y)***: client's behavior; Y=0 then not default, Y=1 then default\""
   ]
  },
  {
   "cell_type": "markdown",
   "id": "4410faf2",
   "metadata": {
    "heading_collapsed": true
   },
   "source": [
    "# Libs"
   ]
  },
  {
   "cell_type": "code",
   "execution_count": 64,
   "id": "c71cd748",
   "metadata": {
    "hidden": true
   },
   "outputs": [],
   "source": [
    "import pandas as pd \n",
    "import numpy as np\n",
    "import math as mt\n",
    "import matplotlib.pyplot as plt\n",
    "from matplotlib.ticker import FuncFormatter\n",
    "import seaborn as sns"
   ]
  },
  {
   "cell_type": "markdown",
   "id": "88d19952",
   "metadata": {
    "heading_collapsed": true
   },
   "source": [
    "# EDA"
   ]
  },
  {
   "cell_type": "markdown",
   "id": "fa9135a4",
   "metadata": {
    "heading_collapsed": true,
    "hidden": true
   },
   "source": [
    "## First look at the data"
   ]
  },
  {
   "cell_type": "code",
   "execution_count": 65,
   "id": "dadfea74",
   "metadata": {
    "hidden": true
   },
   "outputs": [
    {
     "data": {
      "text/html": [
       "<div>\n",
       "<style scoped>\n",
       "    .dataframe tbody tr th:only-of-type {\n",
       "        vertical-align: middle;\n",
       "    }\n",
       "\n",
       "    .dataframe tbody tr th {\n",
       "        vertical-align: top;\n",
       "    }\n",
       "\n",
       "    .dataframe thead th {\n",
       "        text-align: right;\n",
       "    }\n",
       "</style>\n",
       "<table border=\"1\" class=\"dataframe\">\n",
       "  <thead>\n",
       "    <tr style=\"text-align: right;\">\n",
       "      <th></th>\n",
       "      <th>ID</th>\n",
       "      <th>LIMIT_BAL</th>\n",
       "      <th>SEX</th>\n",
       "      <th>EDUCATION</th>\n",
       "      <th>MARRIAGE</th>\n",
       "      <th>AGE</th>\n",
       "      <th>PAY_0</th>\n",
       "      <th>PAY_2</th>\n",
       "      <th>PAY_3</th>\n",
       "      <th>PAY_4</th>\n",
       "      <th>PAY_5</th>\n",
       "      <th>PAY_6</th>\n",
       "      <th>BILL_AMT1</th>\n",
       "      <th>BILL_AMT2</th>\n",
       "      <th>BILL_AMT3</th>\n",
       "      <th>BILL_AMT4</th>\n",
       "      <th>BILL_AMT5</th>\n",
       "      <th>BILL_AMT6</th>\n",
       "      <th>PAY_AMT1</th>\n",
       "      <th>PAY_AMT2</th>\n",
       "      <th>PAY_AMT3</th>\n",
       "      <th>PAY_AMT4</th>\n",
       "      <th>PAY_AMT5</th>\n",
       "      <th>PAY_AMT6</th>\n",
       "      <th>default payment next month</th>\n",
       "    </tr>\n",
       "  </thead>\n",
       "  <tbody>\n",
       "    <tr>\n",
       "      <th>0</th>\n",
       "      <td>1</td>\n",
       "      <td>20000</td>\n",
       "      <td>2</td>\n",
       "      <td>2</td>\n",
       "      <td>1</td>\n",
       "      <td>24</td>\n",
       "      <td>2</td>\n",
       "      <td>2</td>\n",
       "      <td>-1</td>\n",
       "      <td>-1</td>\n",
       "      <td>-2</td>\n",
       "      <td>-2</td>\n",
       "      <td>3913</td>\n",
       "      <td>3102</td>\n",
       "      <td>689</td>\n",
       "      <td>0</td>\n",
       "      <td>0</td>\n",
       "      <td>0</td>\n",
       "      <td>0</td>\n",
       "      <td>689</td>\n",
       "      <td>0</td>\n",
       "      <td>0</td>\n",
       "      <td>0</td>\n",
       "      <td>0</td>\n",
       "      <td>1</td>\n",
       "    </tr>\n",
       "    <tr>\n",
       "      <th>1</th>\n",
       "      <td>2</td>\n",
       "      <td>120000</td>\n",
       "      <td>2</td>\n",
       "      <td>2</td>\n",
       "      <td>2</td>\n",
       "      <td>26</td>\n",
       "      <td>-1</td>\n",
       "      <td>2</td>\n",
       "      <td>0</td>\n",
       "      <td>0</td>\n",
       "      <td>0</td>\n",
       "      <td>2</td>\n",
       "      <td>2682</td>\n",
       "      <td>1725</td>\n",
       "      <td>2682</td>\n",
       "      <td>3272</td>\n",
       "      <td>3455</td>\n",
       "      <td>3261</td>\n",
       "      <td>0</td>\n",
       "      <td>1000</td>\n",
       "      <td>1000</td>\n",
       "      <td>1000</td>\n",
       "      <td>0</td>\n",
       "      <td>2000</td>\n",
       "      <td>1</td>\n",
       "    </tr>\n",
       "    <tr>\n",
       "      <th>2</th>\n",
       "      <td>3</td>\n",
       "      <td>90000</td>\n",
       "      <td>2</td>\n",
       "      <td>2</td>\n",
       "      <td>2</td>\n",
       "      <td>34</td>\n",
       "      <td>0</td>\n",
       "      <td>0</td>\n",
       "      <td>0</td>\n",
       "      <td>0</td>\n",
       "      <td>0</td>\n",
       "      <td>0</td>\n",
       "      <td>29239</td>\n",
       "      <td>14027</td>\n",
       "      <td>13559</td>\n",
       "      <td>14331</td>\n",
       "      <td>14948</td>\n",
       "      <td>15549</td>\n",
       "      <td>1518</td>\n",
       "      <td>1500</td>\n",
       "      <td>1000</td>\n",
       "      <td>1000</td>\n",
       "      <td>1000</td>\n",
       "      <td>5000</td>\n",
       "      <td>0</td>\n",
       "    </tr>\n",
       "  </tbody>\n",
       "</table>\n",
       "</div>"
      ],
      "text/plain": [
       "   ID  LIMIT_BAL  SEX  EDUCATION  MARRIAGE  AGE  PAY_0  PAY_2  PAY_3  PAY_4  \\\n",
       "0   1      20000    2          2         1   24      2      2     -1     -1   \n",
       "1   2     120000    2          2         2   26     -1      2      0      0   \n",
       "2   3      90000    2          2         2   34      0      0      0      0   \n",
       "\n",
       "   PAY_5  PAY_6  BILL_AMT1  BILL_AMT2  BILL_AMT3  BILL_AMT4  BILL_AMT5  \\\n",
       "0     -2     -2       3913       3102        689          0          0   \n",
       "1      0      2       2682       1725       2682       3272       3455   \n",
       "2      0      0      29239      14027      13559      14331      14948   \n",
       "\n",
       "   BILL_AMT6  PAY_AMT1  PAY_AMT2  PAY_AMT3  PAY_AMT4  PAY_AMT5  PAY_AMT6  \\\n",
       "0          0         0       689         0         0         0         0   \n",
       "1       3261         0      1000      1000      1000         0      2000   \n",
       "2      15549      1518      1500      1000      1000      1000      5000   \n",
       "\n",
       "   default payment next month  \n",
       "0                           1  \n",
       "1                           1  \n",
       "2                           0  "
      ]
     },
     "execution_count": 65,
     "metadata": {},
     "output_type": "execute_result"
    }
   ],
   "source": [
    "# Loading de DataFrame\n",
    "\n",
    "default_credit_card = pd.read_excel(r'data\\default of credit card clients.xls', skiprows =1)\n",
    "pd.set_option('display.max_columns', 25)\n",
    "default_credit_card.head(3)"
   ]
  },
  {
   "cell_type": "code",
   "execution_count": 66,
   "id": "24bf2be4",
   "metadata": {
    "hidden": true
   },
   "outputs": [
    {
     "data": {
      "text/html": [
       "<div>\n",
       "<style scoped>\n",
       "    .dataframe tbody tr th:only-of-type {\n",
       "        vertical-align: middle;\n",
       "    }\n",
       "\n",
       "    .dataframe tbody tr th {\n",
       "        vertical-align: top;\n",
       "    }\n",
       "\n",
       "    .dataframe thead th {\n",
       "        text-align: right;\n",
       "    }\n",
       "</style>\n",
       "<table border=\"1\" class=\"dataframe\">\n",
       "  <thead>\n",
       "    <tr style=\"text-align: right;\">\n",
       "      <th></th>\n",
       "      <th>count</th>\n",
       "      <th>mean</th>\n",
       "      <th>std</th>\n",
       "      <th>min</th>\n",
       "      <th>25%</th>\n",
       "      <th>50%</th>\n",
       "      <th>75%</th>\n",
       "      <th>max</th>\n",
       "    </tr>\n",
       "  </thead>\n",
       "  <tbody>\n",
       "    <tr>\n",
       "      <th>ID</th>\n",
       "      <td>30000.0</td>\n",
       "      <td>15000.500000</td>\n",
       "      <td>8660.398374</td>\n",
       "      <td>1.0</td>\n",
       "      <td>7500.75</td>\n",
       "      <td>15000.5</td>\n",
       "      <td>22500.25</td>\n",
       "      <td>30000.0</td>\n",
       "    </tr>\n",
       "    <tr>\n",
       "      <th>LIMIT_BAL</th>\n",
       "      <td>30000.0</td>\n",
       "      <td>167484.322667</td>\n",
       "      <td>129747.661567</td>\n",
       "      <td>10000.0</td>\n",
       "      <td>50000.00</td>\n",
       "      <td>140000.0</td>\n",
       "      <td>240000.00</td>\n",
       "      <td>1000000.0</td>\n",
       "    </tr>\n",
       "    <tr>\n",
       "      <th>SEX</th>\n",
       "      <td>30000.0</td>\n",
       "      <td>1.603733</td>\n",
       "      <td>0.489129</td>\n",
       "      <td>1.0</td>\n",
       "      <td>1.00</td>\n",
       "      <td>2.0</td>\n",
       "      <td>2.00</td>\n",
       "      <td>2.0</td>\n",
       "    </tr>\n",
       "    <tr>\n",
       "      <th>EDUCATION</th>\n",
       "      <td>30000.0</td>\n",
       "      <td>1.853133</td>\n",
       "      <td>0.790349</td>\n",
       "      <td>0.0</td>\n",
       "      <td>1.00</td>\n",
       "      <td>2.0</td>\n",
       "      <td>2.00</td>\n",
       "      <td>6.0</td>\n",
       "    </tr>\n",
       "    <tr>\n",
       "      <th>MARRIAGE</th>\n",
       "      <td>30000.0</td>\n",
       "      <td>1.551867</td>\n",
       "      <td>0.521970</td>\n",
       "      <td>0.0</td>\n",
       "      <td>1.00</td>\n",
       "      <td>2.0</td>\n",
       "      <td>2.00</td>\n",
       "      <td>3.0</td>\n",
       "    </tr>\n",
       "    <tr>\n",
       "      <th>AGE</th>\n",
       "      <td>30000.0</td>\n",
       "      <td>35.485500</td>\n",
       "      <td>9.217904</td>\n",
       "      <td>21.0</td>\n",
       "      <td>28.00</td>\n",
       "      <td>34.0</td>\n",
       "      <td>41.00</td>\n",
       "      <td>79.0</td>\n",
       "    </tr>\n",
       "    <tr>\n",
       "      <th>PAY_0</th>\n",
       "      <td>30000.0</td>\n",
       "      <td>-0.016700</td>\n",
       "      <td>1.123802</td>\n",
       "      <td>-2.0</td>\n",
       "      <td>-1.00</td>\n",
       "      <td>0.0</td>\n",
       "      <td>0.00</td>\n",
       "      <td>8.0</td>\n",
       "    </tr>\n",
       "    <tr>\n",
       "      <th>PAY_2</th>\n",
       "      <td>30000.0</td>\n",
       "      <td>-0.133767</td>\n",
       "      <td>1.197186</td>\n",
       "      <td>-2.0</td>\n",
       "      <td>-1.00</td>\n",
       "      <td>0.0</td>\n",
       "      <td>0.00</td>\n",
       "      <td>8.0</td>\n",
       "    </tr>\n",
       "    <tr>\n",
       "      <th>PAY_3</th>\n",
       "      <td>30000.0</td>\n",
       "      <td>-0.166200</td>\n",
       "      <td>1.196868</td>\n",
       "      <td>-2.0</td>\n",
       "      <td>-1.00</td>\n",
       "      <td>0.0</td>\n",
       "      <td>0.00</td>\n",
       "      <td>8.0</td>\n",
       "    </tr>\n",
       "    <tr>\n",
       "      <th>PAY_4</th>\n",
       "      <td>30000.0</td>\n",
       "      <td>-0.220667</td>\n",
       "      <td>1.169139</td>\n",
       "      <td>-2.0</td>\n",
       "      <td>-1.00</td>\n",
       "      <td>0.0</td>\n",
       "      <td>0.00</td>\n",
       "      <td>8.0</td>\n",
       "    </tr>\n",
       "    <tr>\n",
       "      <th>PAY_5</th>\n",
       "      <td>30000.0</td>\n",
       "      <td>-0.266200</td>\n",
       "      <td>1.133187</td>\n",
       "      <td>-2.0</td>\n",
       "      <td>-1.00</td>\n",
       "      <td>0.0</td>\n",
       "      <td>0.00</td>\n",
       "      <td>8.0</td>\n",
       "    </tr>\n",
       "    <tr>\n",
       "      <th>PAY_6</th>\n",
       "      <td>30000.0</td>\n",
       "      <td>-0.291100</td>\n",
       "      <td>1.149988</td>\n",
       "      <td>-2.0</td>\n",
       "      <td>-1.00</td>\n",
       "      <td>0.0</td>\n",
       "      <td>0.00</td>\n",
       "      <td>8.0</td>\n",
       "    </tr>\n",
       "    <tr>\n",
       "      <th>BILL_AMT1</th>\n",
       "      <td>30000.0</td>\n",
       "      <td>51223.330900</td>\n",
       "      <td>73635.860576</td>\n",
       "      <td>-165580.0</td>\n",
       "      <td>3558.75</td>\n",
       "      <td>22381.5</td>\n",
       "      <td>67091.00</td>\n",
       "      <td>964511.0</td>\n",
       "    </tr>\n",
       "    <tr>\n",
       "      <th>BILL_AMT2</th>\n",
       "      <td>30000.0</td>\n",
       "      <td>49179.075167</td>\n",
       "      <td>71173.768783</td>\n",
       "      <td>-69777.0</td>\n",
       "      <td>2984.75</td>\n",
       "      <td>21200.0</td>\n",
       "      <td>64006.25</td>\n",
       "      <td>983931.0</td>\n",
       "    </tr>\n",
       "    <tr>\n",
       "      <th>BILL_AMT3</th>\n",
       "      <td>30000.0</td>\n",
       "      <td>47013.154800</td>\n",
       "      <td>69349.387427</td>\n",
       "      <td>-157264.0</td>\n",
       "      <td>2666.25</td>\n",
       "      <td>20088.5</td>\n",
       "      <td>60164.75</td>\n",
       "      <td>1664089.0</td>\n",
       "    </tr>\n",
       "    <tr>\n",
       "      <th>BILL_AMT4</th>\n",
       "      <td>30000.0</td>\n",
       "      <td>43262.948967</td>\n",
       "      <td>64332.856134</td>\n",
       "      <td>-170000.0</td>\n",
       "      <td>2326.75</td>\n",
       "      <td>19052.0</td>\n",
       "      <td>54506.00</td>\n",
       "      <td>891586.0</td>\n",
       "    </tr>\n",
       "    <tr>\n",
       "      <th>BILL_AMT5</th>\n",
       "      <td>30000.0</td>\n",
       "      <td>40311.400967</td>\n",
       "      <td>60797.155770</td>\n",
       "      <td>-81334.0</td>\n",
       "      <td>1763.00</td>\n",
       "      <td>18104.5</td>\n",
       "      <td>50190.50</td>\n",
       "      <td>927171.0</td>\n",
       "    </tr>\n",
       "    <tr>\n",
       "      <th>BILL_AMT6</th>\n",
       "      <td>30000.0</td>\n",
       "      <td>38871.760400</td>\n",
       "      <td>59554.107537</td>\n",
       "      <td>-339603.0</td>\n",
       "      <td>1256.00</td>\n",
       "      <td>17071.0</td>\n",
       "      <td>49198.25</td>\n",
       "      <td>961664.0</td>\n",
       "    </tr>\n",
       "    <tr>\n",
       "      <th>PAY_AMT1</th>\n",
       "      <td>30000.0</td>\n",
       "      <td>5663.580500</td>\n",
       "      <td>16563.280354</td>\n",
       "      <td>0.0</td>\n",
       "      <td>1000.00</td>\n",
       "      <td>2100.0</td>\n",
       "      <td>5006.00</td>\n",
       "      <td>873552.0</td>\n",
       "    </tr>\n",
       "    <tr>\n",
       "      <th>PAY_AMT2</th>\n",
       "      <td>30000.0</td>\n",
       "      <td>5921.163500</td>\n",
       "      <td>23040.870402</td>\n",
       "      <td>0.0</td>\n",
       "      <td>833.00</td>\n",
       "      <td>2009.0</td>\n",
       "      <td>5000.00</td>\n",
       "      <td>1684259.0</td>\n",
       "    </tr>\n",
       "    <tr>\n",
       "      <th>PAY_AMT3</th>\n",
       "      <td>30000.0</td>\n",
       "      <td>5225.681500</td>\n",
       "      <td>17606.961470</td>\n",
       "      <td>0.0</td>\n",
       "      <td>390.00</td>\n",
       "      <td>1800.0</td>\n",
       "      <td>4505.00</td>\n",
       "      <td>896040.0</td>\n",
       "    </tr>\n",
       "    <tr>\n",
       "      <th>PAY_AMT4</th>\n",
       "      <td>30000.0</td>\n",
       "      <td>4826.076867</td>\n",
       "      <td>15666.159744</td>\n",
       "      <td>0.0</td>\n",
       "      <td>296.00</td>\n",
       "      <td>1500.0</td>\n",
       "      <td>4013.25</td>\n",
       "      <td>621000.0</td>\n",
       "    </tr>\n",
       "    <tr>\n",
       "      <th>PAY_AMT5</th>\n",
       "      <td>30000.0</td>\n",
       "      <td>4799.387633</td>\n",
       "      <td>15278.305679</td>\n",
       "      <td>0.0</td>\n",
       "      <td>252.50</td>\n",
       "      <td>1500.0</td>\n",
       "      <td>4031.50</td>\n",
       "      <td>426529.0</td>\n",
       "    </tr>\n",
       "    <tr>\n",
       "      <th>PAY_AMT6</th>\n",
       "      <td>30000.0</td>\n",
       "      <td>5215.502567</td>\n",
       "      <td>17777.465775</td>\n",
       "      <td>0.0</td>\n",
       "      <td>117.75</td>\n",
       "      <td>1500.0</td>\n",
       "      <td>4000.00</td>\n",
       "      <td>528666.0</td>\n",
       "    </tr>\n",
       "    <tr>\n",
       "      <th>default payment next month</th>\n",
       "      <td>30000.0</td>\n",
       "      <td>0.221200</td>\n",
       "      <td>0.415062</td>\n",
       "      <td>0.0</td>\n",
       "      <td>0.00</td>\n",
       "      <td>0.0</td>\n",
       "      <td>0.00</td>\n",
       "      <td>1.0</td>\n",
       "    </tr>\n",
       "  </tbody>\n",
       "</table>\n",
       "</div>"
      ],
      "text/plain": [
       "                              count           mean            std       min  \\\n",
       "ID                          30000.0   15000.500000    8660.398374       1.0   \n",
       "LIMIT_BAL                   30000.0  167484.322667  129747.661567   10000.0   \n",
       "SEX                         30000.0       1.603733       0.489129       1.0   \n",
       "EDUCATION                   30000.0       1.853133       0.790349       0.0   \n",
       "MARRIAGE                    30000.0       1.551867       0.521970       0.0   \n",
       "AGE                         30000.0      35.485500       9.217904      21.0   \n",
       "PAY_0                       30000.0      -0.016700       1.123802      -2.0   \n",
       "PAY_2                       30000.0      -0.133767       1.197186      -2.0   \n",
       "PAY_3                       30000.0      -0.166200       1.196868      -2.0   \n",
       "PAY_4                       30000.0      -0.220667       1.169139      -2.0   \n",
       "PAY_5                       30000.0      -0.266200       1.133187      -2.0   \n",
       "PAY_6                       30000.0      -0.291100       1.149988      -2.0   \n",
       "BILL_AMT1                   30000.0   51223.330900   73635.860576 -165580.0   \n",
       "BILL_AMT2                   30000.0   49179.075167   71173.768783  -69777.0   \n",
       "BILL_AMT3                   30000.0   47013.154800   69349.387427 -157264.0   \n",
       "BILL_AMT4                   30000.0   43262.948967   64332.856134 -170000.0   \n",
       "BILL_AMT5                   30000.0   40311.400967   60797.155770  -81334.0   \n",
       "BILL_AMT6                   30000.0   38871.760400   59554.107537 -339603.0   \n",
       "PAY_AMT1                    30000.0    5663.580500   16563.280354       0.0   \n",
       "PAY_AMT2                    30000.0    5921.163500   23040.870402       0.0   \n",
       "PAY_AMT3                    30000.0    5225.681500   17606.961470       0.0   \n",
       "PAY_AMT4                    30000.0    4826.076867   15666.159744       0.0   \n",
       "PAY_AMT5                    30000.0    4799.387633   15278.305679       0.0   \n",
       "PAY_AMT6                    30000.0    5215.502567   17777.465775       0.0   \n",
       "default payment next month  30000.0       0.221200       0.415062       0.0   \n",
       "\n",
       "                                 25%       50%        75%        max  \n",
       "ID                           7500.75   15000.5   22500.25    30000.0  \n",
       "LIMIT_BAL                   50000.00  140000.0  240000.00  1000000.0  \n",
       "SEX                             1.00       2.0       2.00        2.0  \n",
       "EDUCATION                       1.00       2.0       2.00        6.0  \n",
       "MARRIAGE                        1.00       2.0       2.00        3.0  \n",
       "AGE                            28.00      34.0      41.00       79.0  \n",
       "PAY_0                          -1.00       0.0       0.00        8.0  \n",
       "PAY_2                          -1.00       0.0       0.00        8.0  \n",
       "PAY_3                          -1.00       0.0       0.00        8.0  \n",
       "PAY_4                          -1.00       0.0       0.00        8.0  \n",
       "PAY_5                          -1.00       0.0       0.00        8.0  \n",
       "PAY_6                          -1.00       0.0       0.00        8.0  \n",
       "BILL_AMT1                    3558.75   22381.5   67091.00   964511.0  \n",
       "BILL_AMT2                    2984.75   21200.0   64006.25   983931.0  \n",
       "BILL_AMT3                    2666.25   20088.5   60164.75  1664089.0  \n",
       "BILL_AMT4                    2326.75   19052.0   54506.00   891586.0  \n",
       "BILL_AMT5                    1763.00   18104.5   50190.50   927171.0  \n",
       "BILL_AMT6                    1256.00   17071.0   49198.25   961664.0  \n",
       "PAY_AMT1                     1000.00    2100.0    5006.00   873552.0  \n",
       "PAY_AMT2                      833.00    2009.0    5000.00  1684259.0  \n",
       "PAY_AMT3                      390.00    1800.0    4505.00   896040.0  \n",
       "PAY_AMT4                      296.00    1500.0    4013.25   621000.0  \n",
       "PAY_AMT5                      252.50    1500.0    4031.50   426529.0  \n",
       "PAY_AMT6                      117.75    1500.0    4000.00   528666.0  \n",
       "default payment next month      0.00       0.0       0.00        1.0  "
      ]
     },
     "metadata": {},
     "output_type": "display_data"
    },
    {
     "name": "stdout",
     "output_type": "stream",
     "text": [
      "<class 'pandas.core.frame.DataFrame'>\n",
      "RangeIndex: 30000 entries, 0 to 29999\n",
      "Data columns (total 25 columns):\n",
      " #   Column                      Non-Null Count  Dtype\n",
      "---  ------                      --------------  -----\n",
      " 0   ID                          30000 non-null  int64\n",
      " 1   LIMIT_BAL                   30000 non-null  int64\n",
      " 2   SEX                         30000 non-null  int64\n",
      " 3   EDUCATION                   30000 non-null  int64\n",
      " 4   MARRIAGE                    30000 non-null  int64\n",
      " 5   AGE                         30000 non-null  int64\n",
      " 6   PAY_0                       30000 non-null  int64\n",
      " 7   PAY_2                       30000 non-null  int64\n",
      " 8   PAY_3                       30000 non-null  int64\n",
      " 9   PAY_4                       30000 non-null  int64\n",
      " 10  PAY_5                       30000 non-null  int64\n",
      " 11  PAY_6                       30000 non-null  int64\n",
      " 12  BILL_AMT1                   30000 non-null  int64\n",
      " 13  BILL_AMT2                   30000 non-null  int64\n",
      " 14  BILL_AMT3                   30000 non-null  int64\n",
      " 15  BILL_AMT4                   30000 non-null  int64\n",
      " 16  BILL_AMT5                   30000 non-null  int64\n",
      " 17  BILL_AMT6                   30000 non-null  int64\n",
      " 18  PAY_AMT1                    30000 non-null  int64\n",
      " 19  PAY_AMT2                    30000 non-null  int64\n",
      " 20  PAY_AMT3                    30000 non-null  int64\n",
      " 21  PAY_AMT4                    30000 non-null  int64\n",
      " 22  PAY_AMT5                    30000 non-null  int64\n",
      " 23  PAY_AMT6                    30000 non-null  int64\n",
      " 24  default payment next month  30000 non-null  int64\n",
      "dtypes: int64(25)\n",
      "memory usage: 5.7 MB\n"
     ]
    }
   ],
   "source": [
    "# Taking a quick look at the features\n",
    "\n",
    "display(default_credit_card.describe().T)\n",
    "default_credit_card.info()"
   ]
  },
  {
   "cell_type": "markdown",
   "id": "10a2473b",
   "metadata": {
    "hidden": true
   },
   "source": [
    "***We Don't have missing data and the data types looks right. But some features draw attention:***\n",
    "+ EDUCATION -- We have 6 categories, but 75% of values are included in only tree categories.\n",
    "+ MARRIAGE -- Something similar happens, categories 0 and 3 may not have much values\n",
    "+ Age -- it seems that age is concentrated in young people, maybe this feature is skewed\n",
    "+ LIMIT_BAL -- The max value (1000000.0) is 4x bigger then 75% of values, we may have to deal with some outliers. \n",
    "\n",
    "***We also noted that the columns name can be improved. First, lets standardize the names in snake_case, then, we can rename PAY_0 to PAY_1, just to keep the same notation through features. We don't need the column 'id' either*** \n"
   ]
  },
  {
   "cell_type": "code",
   "execution_count": 67,
   "id": "c3b584eb",
   "metadata": {
    "hidden": true
   },
   "outputs": [
    {
     "data": {
      "text/plain": [
       "Index(['limit_bal', 'sex', 'education', 'marriage', 'age', 'pay_1', 'pay_2',\n",
       "       'pay_3', 'pay_4', 'pay_5', 'pay_6', 'bill_amt1', 'bill_amt2',\n",
       "       'bill_amt3', 'bill_amt4', 'bill_amt5', 'bill_amt6', 'pay_amt1',\n",
       "       'pay_amt2', 'pay_amt3', 'pay_amt4', 'pay_amt5', 'pay_amt6',\n",
       "       'default_payment_next_month'],\n",
       "      dtype='object')"
      ]
     },
     "execution_count": 67,
     "metadata": {},
     "output_type": "execute_result"
    }
   ],
   "source": [
    "# Renaming Columns\n",
    "\n",
    "default_credit_card_2 = default_credit_card.copy()\n",
    "\n",
    "for col in default_credit_card_2.columns:\n",
    "    default_credit_card_2.rename(columns = {col:col.lower().strip().replace(' ','_')},inplace = True)\n",
    "\n",
    "default_credit_card_2.rename(columns = {'pay_0':'pay_1'}, inplace = True)\n",
    "default_credit_card_2.drop('id',axis = 1,inplace = True)\n",
    "default_credit_card_2.columns"
   ]
  },
  {
   "cell_type": "markdown",
   "id": "140fa45d",
   "metadata": {
    "hidden": true
   },
   "source": [
    "***Before start exploring the features, lets take a look at default_payment_next_month, the variable that we want to predict!***"
   ]
  },
  {
   "cell_type": "code",
   "execution_count": 68,
   "id": "9b53c4bd",
   "metadata": {
    "hidden": true
   },
   "outputs": [
    {
     "data": {
      "text/plain": [
       "0    23364\n",
       "1     6636\n",
       "Name: default_payment_next_month, dtype: int64"
      ]
     },
     "execution_count": 68,
     "metadata": {},
     "output_type": "execute_result"
    }
   ],
   "source": [
    "default_count = default_credit_card_2.default_payment_next_month.value_counts()\n",
    "\n",
    "default_count"
   ]
  },
  {
   "cell_type": "code",
   "execution_count": 196,
   "id": "b123574a",
   "metadata": {
    "hidden": true
   },
   "outputs": [
    {
     "data": {
      "image/png": "[encoded data removed]",
      "text/plain": [
       "<Figure size 432x360 with 1 Axes>"
      ]
     },
     "metadata": {},
     "output_type": "display_data"
    }
   ],
   "source": [
    "# Visualizing target distribution\n",
    "\n",
    "sns.set_style('white')\n",
    "fig, ax1 = plt.subplots(figsize=(6,5))\n",
    "\n",
    "default_percentage = [round(default_count[0]/len(default_credit_card_2),2),\n",
    "                      round(default_count[1]/len(default_credit_card_2),2)]\n",
    "\n",
    "sns.barplot(y=default_percentage,\n",
    "            x=['0 (No)','1 (Yes)'],\n",
    "            color ='#8ab8ed',lw =3, ax = ax1)\n",
    "\n",
    "\n",
    "# Showing %values inside bars\n",
    "for p in ax1.patches:\n",
    "    width, height = p.get_width(), p.get_height()\n",
    "    x, y = p.get_xy() \n",
    "    ax1.text(x+width/2, y+height/2,\n",
    "             f'{round(100*height,2)}%',\n",
    "             fontsize =14, horizontalalignment='center',\n",
    "             verticalalignment='center')\n",
    "\n",
    "ax1.set(yticklabels=[])\n",
    "ax1.set_title(\"Default payment\",fontsize = 20)\n",
    "ax1.tick_params(labelsize=16)\n",
    "sns.despine(bottom = True, left = True)\n",
    "plt.show()"
   ]
  },
  {
   "cell_type": "markdown",
   "id": "585fc4dd",
   "metadata": {
    "hidden": true
   },
   "source": [
    "***We have imbalanced data! We will have to deal with this to train the model. But for now, lets analyze the others features, choose what makes sense to keep, what makes sense to transform and what to delete***"
   ]
  },
  {
   "cell_type": "markdown",
   "id": "0fbafe2e",
   "metadata": {
    "heading_collapsed": true,
    "hidden": true
   },
   "source": [
    "## Age"
   ]
  },
  {
   "cell_type": "markdown",
   "id": "31b1a110",
   "metadata": {
    "hidden": true
   },
   "source": [
    "***As noted before, Age may be skewed. So lets start investigating it***"
   ]
  },
  {
   "cell_type": "code",
   "execution_count": 191,
   "id": "6a9ebabb",
   "metadata": {
    "hidden": true
   },
   "outputs": [
    {
     "data": {
      "image/png": "[encoded data removed]",
      "text/plain": [
       "<Figure size 1152x360 with 1 Axes>"
      ]
     },
     "metadata": {},
     "output_type": "display_data"
    }
   ],
   "source": [
    "# Visualizing age distribution\n",
    "\n",
    "fig, ax1 = plt.subplots(figsize=(16,5))\n",
    "\n",
    "sns.histplot(data=default_credit_card_2,\n",
    "             x=default_credit_card_2.age,\n",
    "             color ='#8ab8ed', kde = True,ax = ax1)\n",
    "\n",
    "ax1.set_title(\"Age Distribution\",fontsize = 26)\n",
    "ax1.tick_params(labelsize=16)\n",
    "ax1.set_ylabel(\"Count\",fontsize=20)\n",
    "ax1.set_xlabel(\"\",fontsize=20)\n",
    "sns.despine()\n",
    "plt.show()"
   ]
  },
  {
   "cell_type": "markdown",
   "id": "e06267ca",
   "metadata": {
    "hidden": true
   },
   "source": [
    "***Age is definitely skewed! therefore, to better understand customer behavior based on age, it may be a good idea to create age groups based on percentiles. Lets do this***"
   ]
  },
  {
   "cell_type": "code",
   "execution_count": 113,
   "id": "3fff4876",
   "metadata": {
    "hidden": true
   },
   "outputs": [
    {
     "data": {
      "text/html": [
       "<div>\n",
       "<style scoped>\n",
       "    .dataframe tbody tr th:only-of-type {\n",
       "        vertical-align: middle;\n",
       "    }\n",
       "\n",
       "    .dataframe tbody tr th {\n",
       "        vertical-align: top;\n",
       "    }\n",
       "\n",
       "    .dataframe thead th {\n",
       "        text-align: right;\n",
       "    }\n",
       "</style>\n",
       "<table border=\"1\" class=\"dataframe\">\n",
       "  <thead>\n",
       "    <tr style=\"text-align: right;\">\n",
       "      <th></th>\n",
       "      <th>limit_bal</th>\n",
       "      <th>sex</th>\n",
       "      <th>education</th>\n",
       "      <th>marriage</th>\n",
       "      <th>age</th>\n",
       "      <th>age_range</th>\n",
       "    </tr>\n",
       "  </thead>\n",
       "  <tbody>\n",
       "    <tr>\n",
       "      <th>5428</th>\n",
       "      <td>100000</td>\n",
       "      <td>1</td>\n",
       "      <td>2</td>\n",
       "      <td>1</td>\n",
       "      <td>42</td>\n",
       "      <td>41-43</td>\n",
       "    </tr>\n",
       "    <tr>\n",
       "      <th>11403</th>\n",
       "      <td>20000</td>\n",
       "      <td>2</td>\n",
       "      <td>2</td>\n",
       "      <td>1</td>\n",
       "      <td>37</td>\n",
       "      <td>35-37</td>\n",
       "    </tr>\n",
       "    <tr>\n",
       "      <th>729</th>\n",
       "      <td>60000</td>\n",
       "      <td>1</td>\n",
       "      <td>1</td>\n",
       "      <td>2</td>\n",
       "      <td>29</td>\n",
       "      <td>28-29</td>\n",
       "    </tr>\n",
       "  </tbody>\n",
       "</table>\n",
       "</div>"
      ],
      "text/plain": [
       "       limit_bal  sex  education  marriage  age age_range\n",
       "5428      100000    1          2         1   42     41-43\n",
       "11403      20000    2          2         1   37     35-37\n",
       "729        60000    1          1         2   29     28-29"
      ]
     },
     "execution_count": 113,
     "metadata": {},
     "output_type": "execute_result"
    }
   ],
   "source": [
    "# We will divide the ages in 10 groups based on percentiles\n",
    "\n",
    "# Let's create a list to nominate ages ranges \n",
    "percentil_list = [round(np.percentile(default_credit_card_2.age, i ),2)\n",
    "                  for i in range(0,105,5)]\n",
    "range_labels = [str(int(i)) + '-'+ str(int(j)) \n",
    "                for i,j in zip(percentil_list[:-1],percentil_list[1:])]\n",
    "\n",
    "# Ages ranges by percentil \n",
    "default_credit_card_2['age_range'] = pd.qcut(default_credit_card_2.age,20,range_labels )\n",
    "# Looking the results\n",
    "default_credit_card_2.loc[:,default_credit_card_2.columns[:5].tolist() + ['age_range']].sample(3)"
   ]
  },
  {
   "cell_type": "code",
   "execution_count": 114,
   "id": "b91a514e",
   "metadata": {
    "hidden": true
   },
   "outputs": [
    {
     "name": "stdout",
     "output_type": "stream",
     "text": [
      "summary_by_age_range shape: (20, 2)\n",
      "summary_by_age shape: (56, 2)\n"
     ]
    }
   ],
   "source": [
    "# To visualize the data and understand if it really make sense to divede ages in age ranges, lets create two summaries:\n",
    "\n",
    "# Summary basede on age range (groups)\n",
    "summary_by_age_range = default_credit_card_2.groupby('age_range',as_index = False).default_payment_next_month.mean()\n",
    "# Summary based on normal age\n",
    "summary_by_age = default_credit_card_2.groupby('age',as_index = False).default_payment_next_month.mean()\n",
    "\n",
    "print(f'summary_by_age_range shape: {summary_by_age_range.shape}'\n",
    "      f'\\nsummary_by_age shape: {summary_by_age.shape}')"
   ]
  },
  {
   "cell_type": "code",
   "execution_count": 199,
   "id": "d0498139",
   "metadata": {
    "hidden": true,
    "scrolled": false
   },
   "outputs": [
    {
     "data": {
      "image/png": "[encoded data removed]",
      "text/plain": [
       "<Figure size 1296x720 with 2 Axes>"
      ]
     },
     "metadata": {},
     "output_type": "display_data"
    }
   ],
   "source": [
    "# Now, lets visualize the data\n",
    "\n",
    "with sns.axes_style('whitegrid'):\n",
    "    fig, (ax1,ax2) = plt.subplots(2,1,figsize=(18,10))\n",
    "\n",
    "    # Fig 1\n",
    "    sns.lineplot(y=summary_by_age_range.default_payment_next_month,\n",
    "                x=summary_by_age_range.age_range,\n",
    "                color ='#8ab8ed',lw =3, ax = ax1)\n",
    "\n",
    "    ax1.set_title(\"Mean Default by Age Ranges\",fontsize = 26)\n",
    "    ax1.tick_params(labelsize=16)\n",
    "    ax1.set_ylabel(\"Default Rate\",fontsize=20)\n",
    "    ax1.set_xlabel(\"Age Range (groups)\",fontsize=20)\n",
    "    ax1.xaxis.grid(False)\n",
    "\n",
    "    # Fig 2\n",
    "    sns.lineplot(y=summary_by_age.default_payment_next_month,\n",
    "                x=summary_by_age.age,\n",
    "                color ='#8ab8ed',lw =3, ax = ax2)\n",
    "\n",
    "    ax2.set_title(\"Mean Default by Age\",fontsize = 26)\n",
    "    ax2.tick_params(labelsize=16)\n",
    "    ax2.set_ylabel(\"Default Rate\",fontsize=20)\n",
    "    ax2.set_xlabel(\"\",fontsize=20)\n",
    "    plt.subplots_adjust(hspace = 0.45)\n",
    "    ax2.xaxis.grid(False)\n",
    "    plt.ylim(0,0.75)\n",
    "    sns.despine()\n",
    "    plt.show()"
   ]
  },
  {
   "cell_type": "markdown",
   "id": "a4858b6e",
   "metadata": {
    "hidden": true
   },
   "source": [
    "***When using Age ranges, we can definitely identify a behavior. Young and old customers have a higher rate of default. But when we look at the summary by age, without ranges, it is very hard to find a pattern. this shows that our hypothesis was correct, it seems to be a good idea to use age ranges instead of ages***"
   ]
  },
  {
   "cell_type": "markdown",
   "id": "9f232c7e",
   "metadata": {
    "hidden": true
   },
   "source": [
    "### Age - Feature Engineering"
   ]
  },
  {
   "cell_type": "markdown",
   "id": "6d257672",
   "metadata": {
    "hidden": true
   },
   "source": [
    "We created a feature that consist in age ranges, grouped by percentiles. But to use those categorical values in our future model, we will need to adapt it to numerical. \n",
    "\n",
    "It also seems like a good idea to set the numerical values in a rank order, i.e, the category 1 will represent the age range with lowest default, and the category 20 (last one) will represent the age range with highest default. \n",
    "\n",
    "lets do it! "
   ]
  },
  {
   "cell_type": "code",
   "execution_count": 75,
   "id": "147f878e",
   "metadata": {
    "hidden": true
   },
   "outputs": [],
   "source": [
    "# fist, lets rank our previously created summary by age range by default\n",
    "\n",
    "summary_by_age_range_ranked = summary_by_age_range.copy()\n",
    "summary_by_age_range_ranked.sort_values(by =['default_payment_next_month'], inplace = True)\n",
    "\n",
    "#Now we can create ou numerical feature\n",
    "summary_by_age_range_ranked['age_range_int'] = [i for i in range(1, len(summary_by_age_range_ranked) +1)]\n",
    "summary_by_age_range_ranked.reset_index(drop = True, inplace = True)"
   ]
  },
  {
   "cell_type": "code",
   "execution_count": 105,
   "id": "988e0bd9",
   "metadata": {
    "hidden": true
   },
   "outputs": [
    {
     "data": {
      "text/html": [
       "<div>\n",
       "<style scoped>\n",
       "    .dataframe tbody tr th:only-of-type {\n",
       "        vertical-align: middle;\n",
       "    }\n",
       "\n",
       "    .dataframe tbody tr th {\n",
       "        vertical-align: top;\n",
       "    }\n",
       "\n",
       "    .dataframe thead th {\n",
       "        text-align: right;\n",
       "    }\n",
       "</style>\n",
       "<table border=\"1\" class=\"dataframe\">\n",
       "  <thead>\n",
       "    <tr style=\"text-align: right;\">\n",
       "      <th></th>\n",
       "      <th>age_range</th>\n",
       "      <th>default_payment_next_month</th>\n",
       "      <th>age_range_int</th>\n",
       "    </tr>\n",
       "  </thead>\n",
       "  <tbody>\n",
       "    <tr>\n",
       "      <th>0</th>\n",
       "      <td>30-31</td>\n",
       "      <td>0.188168</td>\n",
       "      <td>1</td>\n",
       "    </tr>\n",
       "    <tr>\n",
       "      <th>1</th>\n",
       "      <td>31-33</td>\n",
       "      <td>0.190972</td>\n",
       "      <td>2</td>\n",
       "    </tr>\n",
       "    <tr>\n",
       "      <th>2</th>\n",
       "      <td>28-29</td>\n",
       "      <td>0.195016</td>\n",
       "      <td>3</td>\n",
       "    </tr>\n",
       "    <tr>\n",
       "      <th>3</th>\n",
       "      <td>29-30</td>\n",
       "      <td>0.196416</td>\n",
       "      <td>4</td>\n",
       "    </tr>\n",
       "    <tr>\n",
       "      <th>4</th>\n",
       "      <td>33-34</td>\n",
       "      <td>0.198795</td>\n",
       "      <td>5</td>\n",
       "    </tr>\n",
       "    <tr>\n",
       "      <th>5</th>\n",
       "      <td>25-26</td>\n",
       "      <td>0.201433</td>\n",
       "      <td>6</td>\n",
       "    </tr>\n",
       "    <tr>\n",
       "      <th>6</th>\n",
       "      <td>27-28</td>\n",
       "      <td>0.202981</td>\n",
       "      <td>7</td>\n",
       "    </tr>\n",
       "    <tr>\n",
       "      <th>7</th>\n",
       "      <td>34-35</td>\n",
       "      <td>0.203055</td>\n",
       "      <td>8</td>\n",
       "    </tr>\n",
       "    <tr>\n",
       "      <th>8</th>\n",
       "      <td>37-38</td>\n",
       "      <td>0.205508</td>\n",
       "      <td>9</td>\n",
       "    </tr>\n",
       "    <tr>\n",
       "      <th>9</th>\n",
       "      <td>38-40</td>\n",
       "      <td>0.211623</td>\n",
       "      <td>10</td>\n",
       "    </tr>\n",
       "    <tr>\n",
       "      <th>10</th>\n",
       "      <td>26-27</td>\n",
       "      <td>0.211916</td>\n",
       "      <td>11</td>\n",
       "    </tr>\n",
       "    <tr>\n",
       "      <th>11</th>\n",
       "      <td>40-41</td>\n",
       "      <td>0.224515</td>\n",
       "      <td>12</td>\n",
       "    </tr>\n",
       "    <tr>\n",
       "      <th>12</th>\n",
       "      <td>35-37</td>\n",
       "      <td>0.224756</td>\n",
       "      <td>13</td>\n",
       "    </tr>\n",
       "    <tr>\n",
       "      <th>13</th>\n",
       "      <td>41-43</td>\n",
       "      <td>0.228825</td>\n",
       "      <td>14</td>\n",
       "    </tr>\n",
       "    <tr>\n",
       "      <th>14</th>\n",
       "      <td>43-46</td>\n",
       "      <td>0.230525</td>\n",
       "      <td>15</td>\n",
       "    </tr>\n",
       "    <tr>\n",
       "      <th>15</th>\n",
       "      <td>46-49</td>\n",
       "      <td>0.241720</td>\n",
       "      <td>16</td>\n",
       "    </tr>\n",
       "    <tr>\n",
       "      <th>16</th>\n",
       "      <td>49-53</td>\n",
       "      <td>0.247101</td>\n",
       "      <td>17</td>\n",
       "    </tr>\n",
       "    <tr>\n",
       "      <th>17</th>\n",
       "      <td>53-79</td>\n",
       "      <td>0.259231</td>\n",
       "      <td>18</td>\n",
       "    </tr>\n",
       "    <tr>\n",
       "      <th>18</th>\n",
       "      <td>23-25</td>\n",
       "      <td>0.260268</td>\n",
       "      <td>19</td>\n",
       "    </tr>\n",
       "    <tr>\n",
       "      <th>19</th>\n",
       "      <td>21-23</td>\n",
       "      <td>0.275995</td>\n",
       "      <td>20</td>\n",
       "    </tr>\n",
       "  </tbody>\n",
       "</table>\n",
       "</div>"
      ],
      "text/plain": [
       "   age_range  default_payment_next_month  age_range_int\n",
       "0      30-31                    0.188168              1\n",
       "1      31-33                    0.190972              2\n",
       "2      28-29                    0.195016              3\n",
       "3      29-30                    0.196416              4\n",
       "4      33-34                    0.198795              5\n",
       "5      25-26                    0.201433              6\n",
       "6      27-28                    0.202981              7\n",
       "7      34-35                    0.203055              8\n",
       "8      37-38                    0.205508              9\n",
       "9      38-40                    0.211623             10\n",
       "10     26-27                    0.211916             11\n",
       "11     40-41                    0.224515             12\n",
       "12     35-37                    0.224756             13\n",
       "13     41-43                    0.228825             14\n",
       "14     43-46                    0.230525             15\n",
       "15     46-49                    0.241720             16\n",
       "16     49-53                    0.247101             17\n",
       "17     53-79                    0.259231             18\n",
       "18     23-25                    0.260268             19\n",
       "19     21-23                    0.275995             20"
      ]
     },
     "execution_count": 105,
     "metadata": {},
     "output_type": "execute_result"
    }
   ],
   "source": [
    "# Checking Feature \"age_range_int\"\n",
    "\n",
    "summary_by_age_range_ranked"
   ]
  },
  {
   "cell_type": "code",
   "execution_count": 77,
   "id": "3006310e",
   "metadata": {
    "hidden": true
   },
   "outputs": [
    {
     "data": {
      "text/html": [
       "<div>\n",
       "<style scoped>\n",
       "    .dataframe tbody tr th:only-of-type {\n",
       "        vertical-align: middle;\n",
       "    }\n",
       "\n",
       "    .dataframe tbody tr th {\n",
       "        vertical-align: top;\n",
       "    }\n",
       "\n",
       "    .dataframe thead th {\n",
       "        text-align: right;\n",
       "    }\n",
       "</style>\n",
       "<table border=\"1\" class=\"dataframe\">\n",
       "  <thead>\n",
       "    <tr style=\"text-align: right;\">\n",
       "      <th></th>\n",
       "      <th>limit_bal</th>\n",
       "      <th>sex</th>\n",
       "      <th>education</th>\n",
       "      <th>marriage</th>\n",
       "      <th>age</th>\n",
       "      <th>pay_1</th>\n",
       "      <th>pay_2</th>\n",
       "      <th>pay_3</th>\n",
       "      <th>pay_4</th>\n",
       "      <th>pay_5</th>\n",
       "      <th>pay_6</th>\n",
       "      <th>bill_amt1</th>\n",
       "      <th>...</th>\n",
       "      <th>bill_amt4</th>\n",
       "      <th>bill_amt5</th>\n",
       "      <th>bill_amt6</th>\n",
       "      <th>pay_amt1</th>\n",
       "      <th>pay_amt2</th>\n",
       "      <th>pay_amt3</th>\n",
       "      <th>pay_amt4</th>\n",
       "      <th>pay_amt5</th>\n",
       "      <th>pay_amt6</th>\n",
       "      <th>default_payment_next_month</th>\n",
       "      <th>age_range</th>\n",
       "      <th>age_range_int</th>\n",
       "    </tr>\n",
       "  </thead>\n",
       "  <tbody>\n",
       "    <tr>\n",
       "      <th>18135</th>\n",
       "      <td>10000</td>\n",
       "      <td>1</td>\n",
       "      <td>3</td>\n",
       "      <td>2</td>\n",
       "      <td>46</td>\n",
       "      <td>3</td>\n",
       "      <td>2</td>\n",
       "      <td>2</td>\n",
       "      <td>3</td>\n",
       "      <td>3</td>\n",
       "      <td>3</td>\n",
       "      <td>1050</td>\n",
       "      <td>...</td>\n",
       "      <td>1050</td>\n",
       "      <td>1050</td>\n",
       "      <td>1050</td>\n",
       "      <td>0</td>\n",
       "      <td>0</td>\n",
       "      <td>0</td>\n",
       "      <td>0</td>\n",
       "      <td>0</td>\n",
       "      <td>0</td>\n",
       "      <td>1</td>\n",
       "      <td>43-46</td>\n",
       "      <td>15</td>\n",
       "    </tr>\n",
       "    <tr>\n",
       "      <th>5167</th>\n",
       "      <td>200000</td>\n",
       "      <td>1</td>\n",
       "      <td>3</td>\n",
       "      <td>1</td>\n",
       "      <td>40</td>\n",
       "      <td>0</td>\n",
       "      <td>0</td>\n",
       "      <td>0</td>\n",
       "      <td>0</td>\n",
       "      <td>0</td>\n",
       "      <td>0</td>\n",
       "      <td>187431</td>\n",
       "      <td>...</td>\n",
       "      <td>76167</td>\n",
       "      <td>76810</td>\n",
       "      <td>72039</td>\n",
       "      <td>8124</td>\n",
       "      <td>8339</td>\n",
       "      <td>5004</td>\n",
       "      <td>2961</td>\n",
       "      <td>2579</td>\n",
       "      <td>2761</td>\n",
       "      <td>0</td>\n",
       "      <td>38-40</td>\n",
       "      <td>10</td>\n",
       "    </tr>\n",
       "    <tr>\n",
       "      <th>17390</th>\n",
       "      <td>360000</td>\n",
       "      <td>2</td>\n",
       "      <td>1</td>\n",
       "      <td>1</td>\n",
       "      <td>42</td>\n",
       "      <td>1</td>\n",
       "      <td>-2</td>\n",
       "      <td>-2</td>\n",
       "      <td>-2</td>\n",
       "      <td>-2</td>\n",
       "      <td>-2</td>\n",
       "      <td>0</td>\n",
       "      <td>...</td>\n",
       "      <td>0</td>\n",
       "      <td>0</td>\n",
       "      <td>0</td>\n",
       "      <td>0</td>\n",
       "      <td>0</td>\n",
       "      <td>0</td>\n",
       "      <td>0</td>\n",
       "      <td>0</td>\n",
       "      <td>0</td>\n",
       "      <td>0</td>\n",
       "      <td>41-43</td>\n",
       "      <td>14</td>\n",
       "    </tr>\n",
       "  </tbody>\n",
       "</table>\n",
       "<p>3 rows × 26 columns</p>\n",
       "</div>"
      ],
      "text/plain": [
       "       limit_bal  sex  education  marriage  age  pay_1  pay_2  pay_3  pay_4  \\\n",
       "18135      10000    1          3         2   46      3      2      2      3   \n",
       "5167      200000    1          3         1   40      0      0      0      0   \n",
       "17390     360000    2          1         1   42      1     -2     -2     -2   \n",
       "\n",
       "       pay_5  pay_6  bill_amt1  ...  bill_amt4  bill_amt5  bill_amt6  \\\n",
       "18135      3      3       1050  ...       1050       1050       1050   \n",
       "5167       0      0     187431  ...      76167      76810      72039   \n",
       "17390     -2     -2          0  ...          0          0          0   \n",
       "\n",
       "       pay_amt1  pay_amt2  pay_amt3  pay_amt4  pay_amt5  pay_amt6  \\\n",
       "18135         0         0         0         0         0         0   \n",
       "5167       8124      8339      5004      2961      2579      2761   \n",
       "17390         0         0         0         0         0         0   \n",
       "\n",
       "       default_payment_next_month  age_range  age_range_int  \n",
       "18135                           1      43-46             15  \n",
       "5167                            0      38-40             10  \n",
       "17390                           0      41-43             14  \n",
       "\n",
       "[3 rows x 26 columns]"
      ]
     },
     "execution_count": 77,
     "metadata": {},
     "output_type": "execute_result"
    }
   ],
   "source": [
    "# Now we just need to add this feature to the main df\n",
    "\n",
    "default_credit_card_3 = default_credit_card_2.copy()\n",
    "\n",
    "default_credit_card_3['age_range_int'] = default_credit_card_3['age_range'].apply(\n",
    "    lambda x: summary_by_age_range_ranked[summary_by_age_range_ranked.age_range == x].age_range_int.values[0])\n",
    "\n",
    "default_credit_card_3.sample(3)"
   ]
  },
  {
   "cell_type": "markdown",
   "id": "ef4e39f7",
   "metadata": {
    "heading_collapsed": true,
    "hidden": true
   },
   "source": [
    "## Sex"
   ]
  },
  {
   "cell_type": "code",
   "execution_count": 78,
   "id": "40f045fa",
   "metadata": {
    "hidden": true
   },
   "outputs": [
    {
     "data": {
      "text/html": [
       "<div>\n",
       "<style scoped>\n",
       "    .dataframe tbody tr th:only-of-type {\n",
       "        vertical-align: middle;\n",
       "    }\n",
       "\n",
       "    .dataframe tbody tr th {\n",
       "        vertical-align: top;\n",
       "    }\n",
       "\n",
       "    .dataframe thead th {\n",
       "        text-align: right;\n",
       "    }\n",
       "</style>\n",
       "<table border=\"1\" class=\"dataframe\">\n",
       "  <thead>\n",
       "    <tr style=\"text-align: right;\">\n",
       "      <th></th>\n",
       "      <th>Default</th>\n",
       "      <th>Not Default</th>\n",
       "    </tr>\n",
       "    <tr>\n",
       "      <th>sex</th>\n",
       "      <th></th>\n",
       "      <th></th>\n",
       "    </tr>\n",
       "  </thead>\n",
       "  <tbody>\n",
       "    <tr>\n",
       "      <th>Male</th>\n",
       "      <td>0.241672</td>\n",
       "      <td>0.758328</td>\n",
       "    </tr>\n",
       "    <tr>\n",
       "      <th>Female</th>\n",
       "      <td>0.207763</td>\n",
       "      <td>0.792237</td>\n",
       "    </tr>\n",
       "  </tbody>\n",
       "</table>\n",
       "</div>"
      ],
      "text/plain": [
       "         Default  Not Default\n",
       "sex                          \n",
       "Male    0.241672     0.758328\n",
       "Female  0.207763     0.792237"
      ]
     },
     "execution_count": 78,
     "metadata": {},
     "output_type": "execute_result"
    }
   ],
   "source": [
    "# To analyze the gender feature, lets start with the Default Rate\n",
    "\n",
    "sex_df = default_credit_card_3.groupby('sex',as_index = False).agg({'default_payment_next_month':'mean'})\n",
    "sex_df['Not Default'] = 1 - sex_df['default_payment_next_month']\n",
    "sex_df['sex'] =['Male', 'Female']\n",
    "sex_df.set_index('sex',inplace = True)\n",
    "sex_df.rename(columns = {'default_payment_next_month':'Default'}, inplace = True)\n",
    "sex_df"
   ]
  },
  {
   "cell_type": "code",
   "execution_count": 228,
   "id": "ea47049b",
   "metadata": {
    "hidden": true
   },
   "outputs": [
    {
     "data": {
      "image/png": "[encoded data removed]",
      "text/plain": [
       "<Figure size 504x360 with 1 Axes>"
      ]
     },
     "metadata": {},
     "output_type": "display_data"
    }
   ],
   "source": [
    "# Visualizing with a stacked bar plot\n",
    "\n",
    "fig, ax1 = plt.subplots(figsize=(7,5))\n",
    "\n",
    "sex_df.plot( kind='bar', stacked=True,color = ['#6a6a9e','#8ab8ed'],width = 0.6, ax = ax1)\n",
    "ax1.set_title(\"Default Rate by Sex\",fontsize = 24)\n",
    "ax1.tick_params(labelrotation = 1,labelsize=16)\n",
    "ax1.set_ylabel(\"\")\n",
    "ax1.set_xlabel(\"\")\n",
    "\n",
    "# Adjusting Legend order and location\n",
    "handles, labels = plt.gca().get_legend_handles_labels()\n",
    "order = [1, 0] \n",
    "plt.legend([handles[i] for i in order], [labels[i] for i in order],fontsize = 15,bbox_to_anchor=(0.9, 0.2))\n",
    "\n",
    "# Showing %values inside bars\n",
    "for p in ax1.patches:\n",
    "    width, height = p.get_width(), p.get_height()\n",
    "    x, y = p.get_xy() \n",
    "    ax1.text(x+width/2, y+height/2,\n",
    "             f'{round(100*height,2)}%',\n",
    "             fontsize =14, horizontalalignment='center',\n",
    "             verticalalignment='center')\n",
    "\n",
    "# Removing frames and Seting formatter\n",
    "ax1.set(yticklabels=[])\n",
    "sns.despine(bottom = True, left = True)  \n",
    "plt.show()"
   ]
  },
  {
   "cell_type": "markdown",
   "id": "fa63292c",
   "metadata": {
    "hidden": true
   },
   "source": [
    "***the difference is not huge, but it is there. This is a feature that is probably worth keeping***"
   ]
  },
  {
   "cell_type": "markdown",
   "id": "8dfe9e81",
   "metadata": {
    "heading_collapsed": true,
    "hidden": true
   },
   "source": [
    "## Education"
   ]
  },
  {
   "cell_type": "markdown",
   "id": "012cfd9e",
   "metadata": {
    "hidden": true
   },
   "source": [
    "Concerning to education, we saw in our first analysis that we may have some categories with low relevance. Also, in the documentation there are four categories (0,4,5,6) that means only 'other'\n",
    "\n",
    "***Lets investigate if we can reduce the number of categories***"
   ]
  },
  {
   "cell_type": "code",
   "execution_count": 80,
   "id": "6ae02848",
   "metadata": {
    "hidden": true
   },
   "outputs": [
    {
     "name": "stdout",
     "output_type": "stream",
     "text": [
      "EDUCATION Possible Values: [0, 1, 2, 3, 4, 5, 6]\n",
      "2    14030\n",
      "1    10585\n",
      "3     4917\n",
      "5      280\n",
      "4      123\n",
      "6       51\n",
      "0       14\n",
      "Name: education, dtype: int64\n"
     ]
    }
   ],
   "source": [
    "# Lets start looking at the quantity of values in each education categorie\n",
    "\n",
    "print(f'EDUCATION Possible Values: {sorted(default_credit_card_3.education.unique())}'\n",
    "      f'\\n{default_credit_card_3.education.value_counts()}')\n"
   ]
  },
  {
   "cell_type": "markdown",
   "id": "f127a72b",
   "metadata": {
    "hidden": true
   },
   "source": [
    "We ca see that categories 0,4,5,6, defined as other, don't have many values. let's investigate if they have similar behavior in relation to the default, or if they dont represent important outliers, if so, we can summarize them in one category"
   ]
  },
  {
   "cell_type": "code",
   "execution_count": 81,
   "id": "46abd0cc",
   "metadata": {
    "hidden": true
   },
   "outputs": [
    {
     "data": {
      "text/html": [
       "<div>\n",
       "<style scoped>\n",
       "    .dataframe tbody tr th:only-of-type {\n",
       "        vertical-align: middle;\n",
       "    }\n",
       "\n",
       "    .dataframe tbody tr th {\n",
       "        vertical-align: top;\n",
       "    }\n",
       "\n",
       "    .dataframe thead th {\n",
       "        text-align: right;\n",
       "    }\n",
       "</style>\n",
       "<table border=\"1\" class=\"dataframe\">\n",
       "  <thead>\n",
       "    <tr style=\"text-align: right;\">\n",
       "      <th></th>\n",
       "      <th>education</th>\n",
       "      <th>default_payment_next_month</th>\n",
       "      <th>qnt</th>\n",
       "    </tr>\n",
       "  </thead>\n",
       "  <tbody>\n",
       "    <tr>\n",
       "      <th>0</th>\n",
       "      <td>0</td>\n",
       "      <td>0.000000</td>\n",
       "      <td>14</td>\n",
       "    </tr>\n",
       "    <tr>\n",
       "      <th>1</th>\n",
       "      <td>4</td>\n",
       "      <td>0.056911</td>\n",
       "      <td>123</td>\n",
       "    </tr>\n",
       "    <tr>\n",
       "      <th>2</th>\n",
       "      <td>5</td>\n",
       "      <td>0.064286</td>\n",
       "      <td>280</td>\n",
       "    </tr>\n",
       "    <tr>\n",
       "      <th>3</th>\n",
       "      <td>6</td>\n",
       "      <td>0.156863</td>\n",
       "      <td>51</td>\n",
       "    </tr>\n",
       "    <tr>\n",
       "      <th>4</th>\n",
       "      <td>1</td>\n",
       "      <td>0.192348</td>\n",
       "      <td>10585</td>\n",
       "    </tr>\n",
       "    <tr>\n",
       "      <th>5</th>\n",
       "      <td>2</td>\n",
       "      <td>0.237349</td>\n",
       "      <td>14030</td>\n",
       "    </tr>\n",
       "    <tr>\n",
       "      <th>6</th>\n",
       "      <td>3</td>\n",
       "      <td>0.251576</td>\n",
       "      <td>4917</td>\n",
       "    </tr>\n",
       "  </tbody>\n",
       "</table>\n",
       "</div>"
      ],
      "text/plain": [
       "   education  default_payment_next_month    qnt\n",
       "0          0                    0.000000     14\n",
       "1          4                    0.056911    123\n",
       "2          5                    0.064286    280\n",
       "3          6                    0.156863     51\n",
       "4          1                    0.192348  10585\n",
       "5          2                    0.237349  14030\n",
       "6          3                    0.251576   4917"
      ]
     },
     "execution_count": 81,
     "metadata": {},
     "output_type": "execute_result"
    }
   ],
   "source": [
    "# Lets start creating a summary by education \n",
    "\n",
    "education_summary = default_credit_card_3.groupby('education',as_index = False).agg({'default_payment_next_month':'mean',\n",
    "                                                                                     'limit_bal':'count'})\n",
    "education_summary.rename(columns = {'limit_bal':'qnt'},inplace = True)\n",
    "education_summary.sort_values(by = ['default_payment_next_month'],inplace = True)\n",
    "education_summary.reset_index(drop = True, inplace = True)\n",
    "education_summary"
   ]
  },
  {
   "cell_type": "code",
   "execution_count": 229,
   "id": "858555b7",
   "metadata": {
    "hidden": true
   },
   "outputs": [
    {
     "data": {
      "image/png": "[encoded data removed]",
      "text/plain": [
       "<Figure size 432x360 with 1 Axes>"
      ]
     },
     "metadata": {},
     "output_type": "display_data"
    }
   ],
   "source": [
    "fig, ax1 = plt.subplots(figsize=(6,5))\n",
    "\n",
    "sns.barplot(y=education_summary.default_payment_next_month.tolist(),\n",
    "            x=[str(i) for i in education_summary.education],\n",
    "            color ='#8ab8ed', ax = ax1)\n",
    "\n",
    "ax1.set_title(\"Mean Default by Education \",fontsize = 20)\n",
    "ax1.set_ylabel(\"Mean Default\",fontsize=20)\n",
    "ax1.set_xlabel(\"Education Category\",fontsize=20)\n",
    "ax1.tick_params(labelsize=16)\n",
    "sns.despine()\n",
    "plt.show()"
   ]
  },
  {
   "cell_type": "markdown",
   "id": "02b29204",
   "metadata": {
    "hidden": true
   },
   "source": [
    "***we can see that our hypothesis was incorrect!*** the categories 0,4,5,6 don't have a similar behavior, and they represent outliers values when compared to other categories! therefore, we cant resume those categories into a single one. \n",
    "\n",
    "This chart also show us that education is probably a meaningful feature, because each category shows a different behavior. "
   ]
  },
  {
   "cell_type": "markdown",
   "id": "2f3e1f7a",
   "metadata": {
    "heading_collapsed": true,
    "hidden": true
   },
   "source": [
    "## Marriage"
   ]
  },
  {
   "cell_type": "markdown",
   "id": "7a24842c",
   "metadata": {
    "hidden": true
   },
   "source": [
    "Concerning to marriage, we will check the relevance of categories and the relation with default "
   ]
  },
  {
   "cell_type": "code",
   "execution_count": 83,
   "id": "ba24a246",
   "metadata": {
    "hidden": true
   },
   "outputs": [
    {
     "name": "stdout",
     "output_type": "stream",
     "text": [
      "MARRIAGE Possible Values: [0, 1, 2, 3]\n",
      "2    15964\n",
      "1    13659\n",
      "3      323\n",
      "0       54\n",
      "Name: marriage, dtype: int64\n"
     ]
    }
   ],
   "source": [
    "# Lets start looking at the quantity of values in each education marriage\n",
    "\n",
    "print(f'MARRIAGE Possible Values: {sorted(default_credit_card_3.marriage.unique())}'\n",
    "      f'\\n{default_credit_card_3.marriage.value_counts()}')"
   ]
  },
  {
   "cell_type": "code",
   "execution_count": 84,
   "id": "a5702feb",
   "metadata": {
    "hidden": true
   },
   "outputs": [
    {
     "data": {
      "text/html": [
       "<div>\n",
       "<style scoped>\n",
       "    .dataframe tbody tr th:only-of-type {\n",
       "        vertical-align: middle;\n",
       "    }\n",
       "\n",
       "    .dataframe tbody tr th {\n",
       "        vertical-align: top;\n",
       "    }\n",
       "\n",
       "    .dataframe thead th {\n",
       "        text-align: right;\n",
       "    }\n",
       "</style>\n",
       "<table border=\"1\" class=\"dataframe\">\n",
       "  <thead>\n",
       "    <tr style=\"text-align: right;\">\n",
       "      <th></th>\n",
       "      <th>marriage</th>\n",
       "      <th>default_payment_next_month</th>\n",
       "      <th>qnt</th>\n",
       "    </tr>\n",
       "  </thead>\n",
       "  <tbody>\n",
       "    <tr>\n",
       "      <th>0</th>\n",
       "      <td>0</td>\n",
       "      <td>0.092593</td>\n",
       "      <td>54</td>\n",
       "    </tr>\n",
       "    <tr>\n",
       "      <th>1</th>\n",
       "      <td>2</td>\n",
       "      <td>0.209283</td>\n",
       "      <td>15964</td>\n",
       "    </tr>\n",
       "    <tr>\n",
       "      <th>2</th>\n",
       "      <td>1</td>\n",
       "      <td>0.234717</td>\n",
       "      <td>13659</td>\n",
       "    </tr>\n",
       "    <tr>\n",
       "      <th>3</th>\n",
       "      <td>3</td>\n",
       "      <td>0.260062</td>\n",
       "      <td>323</td>\n",
       "    </tr>\n",
       "  </tbody>\n",
       "</table>\n",
       "</div>"
      ],
      "text/plain": [
       "   marriage  default_payment_next_month    qnt\n",
       "0         0                    0.092593     54\n",
       "1         2                    0.209283  15964\n",
       "2         1                    0.234717  13659\n",
       "3         3                    0.260062    323"
      ]
     },
     "execution_count": 84,
     "metadata": {},
     "output_type": "execute_result"
    }
   ],
   "source": [
    "# Lets create a summary by marriage categorie \n",
    "\n",
    "marriage_summary = default_credit_card_3.groupby('marriage',as_index = False).agg({'default_payment_next_month':'mean',\n",
    "                                                                                    'limit_bal':'count'})\n",
    "marriage_summary.rename(columns = {'limit_bal':'qnt'},inplace = True)\n",
    "marriage_summary.sort_values(by = ['default_payment_next_month'],inplace = True)\n",
    "marriage_summary.reset_index(drop = True, inplace = True)\n",
    "marriage_summary"
   ]
  },
  {
   "cell_type": "code",
   "execution_count": 230,
   "id": "862ffba9",
   "metadata": {
    "hidden": true
   },
   "outputs": [
    {
     "data": {
      "image/png": "[encoded data removed]",
      "text/plain": [
       "<Figure size 432x360 with 1 Axes>"
      ]
     },
     "metadata": {},
     "output_type": "display_data"
    }
   ],
   "source": [
    "\n",
    "fig, ax1 = plt.subplots(figsize=(6,5))\n",
    "\n",
    "sns.barplot(y=marriage_summary.default_payment_next_month.tolist(),\n",
    "            x=[str(i) for i in marriage_summary.marriage],\n",
    "            color ='#8ab8ed', ax = ax1)\n",
    "\n",
    "ax1.set_title(\"Mean Default by Marriage \",fontsize = 20)\n",
    "ax1.set_ylabel(\"Mean Default\",fontsize=20)\n",
    "ax1.set_xlabel(\"Marriage Category\",fontsize=20)\n",
    "ax1.tick_params(labelsize=16)\n",
    "sns.despine()\n",
    "plt.show()"
   ]
  },
  {
   "cell_type": "markdown",
   "id": "cd196c13",
   "metadata": {
    "hidden": true
   },
   "source": [
    "This chart also show us that marriage is probably a meaningful feature, because each category shows a different behavior. "
   ]
  },
  {
   "cell_type": "markdown",
   "id": "eddaade6",
   "metadata": {
    "heading_collapsed": true
   },
   "source": [
    "# Feature Engineering"
   ]
  },
  {
   "cell_type": "markdown",
   "id": "4d7ce3c1",
   "metadata": {
    "hidden": true
   },
   "source": [
    "We have already done some feature engineering with the categorical features during the EDA. Now, we are going to take a closer look into the continuous features to see if we can retrieve more info from it."
   ]
  },
  {
   "cell_type": "markdown",
   "id": "5a366453",
   "metadata": {
    "hidden": true
   },
   "source": [
    "**Under development**"
   ]
  },
  {
   "cell_type": "code",
   "execution_count": 86,
   "id": "8f20cddc",
   "metadata": {
    "hidden": true
   },
   "outputs": [],
   "source": [
    "# Saving the treated df with new features \n",
    "\n",
    "default_credit_card_3.to_csv('data\\default_of_credit_card_clients_treated.csv',index = False)"
   ]
  },
  {
   "cell_type": "code",
   "execution_count": null,
   "id": "9235d4f4",
   "metadata": {
    "hidden": true
   },
   "outputs": [],
   "source": []
  },
  {
   "cell_type": "code",
   "execution_count": null,
   "id": "bcb83c2a",
   "metadata": {
    "hidden": true
   },
   "outputs": [],
   "source": []
  }
 ],
 "metadata": {
  "kernelspec": {
   "display_name": "Python 3 (ipykernel)",
   "language": "python",
   "name": "python3"
  },
  "language_info": {
   "codemirror_mode": {
    "name": "ipython",
    "version": 3
   },
   "file_extension": ".py",
   "mimetype": "text/x-python",
   "name": "python",
   "nbconvert_exporter": "python",
   "pygments_lexer": "ipython3",
   "version": "3.9.7"
  },
  "toc": {
   "base_numbering": 1,
   "nav_menu": {},
   "number_sections": true,
   "sideBar": true,
   "skip_h1_title": false,
   "title_cell": "Table of Contents",
   "title_sidebar": "Contents",
   "toc_cell": false,
   "toc_position": {},
   "toc_section_display": true,
   "toc_window_display": false
  },
  "varInspector": {
   "cols": {
    "lenName": 16,
    "lenType": 16,
    "lenVar": 40
   },
   "kernels_config": {
    "python": {
     "delete_cmd_postfix": "",
     "delete_cmd_prefix": "del ",
     "library": "var_list.py",
     "varRefreshCmd": "print(var_dic_list())"
    },
    "r": {
     "delete_cmd_postfix": ") ",
     "delete_cmd_prefix": "rm(",
     "library": "var_list.r",
     "varRefreshCmd": "cat(var_dic_list()) "
    }
   },
   "types_to_exclude": [
    "module",
    "function",
    "builtin_function_or_method",
    "instance",
    "_Feature"
   ],
   "window_display": false
  }
 },
 "nbformat": 4,
 "nbformat_minor": 5
}
