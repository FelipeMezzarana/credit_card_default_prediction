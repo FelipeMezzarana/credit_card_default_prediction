{
 "cells": [
  {
   "cell_type": "markdown",
   "id": "c5d93bbe",
   "metadata": {},
   "source": [
    "***Warning:*** This is the second script of this project. in the first one (\"eda_and_feature_engineering\"), we define the problem, explored the data, we did an initial treatment and created some features. I strongly recommend that you visit the first script before exploring this one, they are two parts of the same project, and were split just to avoid an extremely large script, improving the organization.\n",
    "\n",
    "**Method:**\n",
    "\n",
    "As mentioned, we have already pre-treated our data. However, the EDA revealed that we have ***unbalanced data***, we need to understand witch technique should be used to train our model. In order to build the best possible model, we also need to perform feature selection. \n",
    "\n",
    "All considered, we decided to opt for an iterative methodology, as described below:\n",
    "\n",
    "+ Define and prepare metrics to be easily applicable \n",
    "+ Develop a pipeline to build a model and create a baseline with the raw DataFrame\n",
    "+ Treat the imbalance data problem and choose the best technique\n",
    "+ Feature selection and engineering\n",
    "+ Model selection and hyperparameter tuning\n"
   ]
  },
  {
   "cell_type": "markdown",
   "id": "544eb23a",
   "metadata": {
    "heading_collapsed": true
   },
   "source": [
    "# Libs"
   ]
  },
  {
   "cell_type": "code",
   "execution_count": 41,
   "id": "380e5272",
   "metadata": {
    "hidden": true
   },
   "outputs": [],
   "source": [
    "import pandas as pd \n",
    "import numpy as np\n",
    "import math as mt\n",
    "import matplotlib.pyplot as plt\n",
    "import seaborn as sns\n",
    "from sklearn.metrics import recall_score\n",
    "from sklearn.metrics import precision_score\n",
    "from sklearn.metrics import confusion_matrix\n",
    "from sklearn.metrics import ConfusionMatrixDisplay\n",
    "from sklearn.metrics import RocCurveDisplay\n",
    "from sklearn.metrics import roc_auc_score"
   ]
  },
  {
   "cell_type": "markdown",
   "id": "aedc8e49",
   "metadata": {
    "heading_collapsed": true
   },
   "source": [
    "# Metrics"
   ]
  },
  {
   "cell_type": "markdown",
   "id": "631fabff",
   "metadata": {
    "hidden": true
   },
   "source": [
    "**Defining metrics**\n",
    "\n",
    "Evaluating a classification model may not be the easiest task. In order to obtain a consistent result it will be necessary to use a set of metrics, we will adopt:\n",
    "\n",
    "+ recall -- Indicates the occurrence of false negative, e.g, predict indicated that default would NOT occur, but it did\n",
    "+ precision -- Indicates rate at which positive predictions are correct, e.g, predict indicated that default would occur, and it did\n",
    "    + Please note: in our case, **recall will have greater relevance**, because predicting a false negative will result in greater losses for the business than predicting a false positive\n",
    "+ F1 -- A function of Precision and Recall. Even though Recall is more important, precision is also relevant, because wrongly predicting that a default will happen, also results in business loses. So it is good to have a metric that represents a balance between Precision and Recall. \n",
    "+ ROC Curve -- Until now, our metrics are considering 3 of 4 values of the confusion matrix, we are not looking at true negatives! We could use Accuracy or Specificity to include true negative in our analyses, but we expected that the majority of data will be true negative, so those metrics may be misleading. Instead, we will use the ROC curve, that shows the relation between  True Positive Rate and True Negative Rate. \n",
    "+ AUC -- Its the area under the ROC curve, it is a simple way to measure the ROC Curve.\n",
    "\n",
    "\n",
    "***To make our life easier, let's define a class that calculates and displays all the desired metrics***"
   ]
  },
  {
   "cell_type": "code",
   "execution_count": 42,
   "id": "320e8440",
   "metadata": {
    "hidden": true
   },
   "outputs": [],
   "source": [
    "class metrics:\n",
    "    \n",
    "    def __init__(self, y_true,y_pred):\n",
    "        \n",
    "        \"\"\"Create the metrics object and define the desired metrics as attributes.\n",
    "\n",
    "        Keyword arguments:\n",
    "        y_true -- list of predict default\n",
    "        y_pred -- list of actual default\n",
    "        \"\"\"\n",
    "        \n",
    "        self.y_pred = y_pred\n",
    "        self.y_true = y_true\n",
    "        \n",
    "        # Recall --  Tp / (Tp + Fn) or (True positive/Total Actual Positive)\n",
    "        self.recall = recall_score(y_true, y_pred)\n",
    "        # Precision -- Tp/(Tp + Fp) or (True positive/Total Predicted Positive)\n",
    "        self.precision = precision_score(y_true, y_pred) \n",
    "        # F1 -- 2*precision*recall /(precision + recall)\n",
    "        self.f1 = 2*self.precision*self.recall/(self.precision+self.recall)\n",
    "        # AUC - area under roc curve\n",
    "        self.auc = roc_auc_score(y_true, y_pred)\n",
    "        # Values of: tp,tn,fp,fn\n",
    "        self.conf_matrix = confusion_matrix(self.y_true, self.y_pred)\n",
    "        \n",
    "        \n",
    "    def show_metrics(self):\n",
    "        \n",
    "        \"\"\"Print metrics\"\"\"\n",
    "        \n",
    "        print(f'Métrics:\\n\\nRecall: {round(self.recall,3)}'\n",
    "              f'\\nPrecision: {round(self.precision,3)}'\n",
    "              f'\\nF1: {round(self.f1,2)}'\n",
    "              f'\\nAUC: {round(self.auc,2)}')\n",
    "        \n",
    "    def show_charts(self, chart = 'all'):\n",
    "        \n",
    "        \"\"\"plot metrics charts\n",
    "        Charts may be: Confusion Matrix, ROC Curve or both\n",
    "        \n",
    "        Keyword arguments:\n",
    "        chart -- string to define what metric to plot. Can be: 'roc','conf_matrix' or 'all' (default 'all')\n",
    "        \"\"\"\n",
    "        \n",
    "        if chart == 'all':\n",
    "            fig, (ax1, ax2) = plt.subplots(1,2,figsize=(15,5))\n",
    "        elif chart == 'conf_matrix':\n",
    "            fig, ax1 = plt.subplots(figsize=(5,5))\n",
    "        elif chart == 'roc':\n",
    "            fig, ax2 = plt.subplots(figsize=(9,5))\n",
    "        else:\n",
    "            return print(\"Please choose a valid chart value: 'conf_matrix', 'roc' or 'all'\")\n",
    "        \n",
    "        if chart == 'all' or chart == 'conf_matrix':\n",
    "            # Confusion Matrix plot\n",
    "            ConfusionMatrixDisplay(teste.conf_matrix).plot(ax =ax1)\n",
    "            ax1.set_title(\"Confusion Matrix\",fontsize = 18)\n",
    "            ax1.set_xlabel(\"Predicted Default\",fontsize=14)\n",
    "            ax1.set_ylabel(\"Actual Default\",fontsize=14)\n",
    "            ax1.tick_params(labelsize=12)\n",
    "            \n",
    "        if chart == 'all' or chart == 'roc':\n",
    "            # ROC curve plot\n",
    "            RocCurveDisplay.from_predictions(teste.y_true,teste.y_pred,ax = ax2)#.plot(ax=ax2)\n",
    "            ax2.set_title(\"ROC Curve\",fontsize = 18)\n",
    "            ax2.set_xlabel(\"False Positive Rate (Specificity)\",fontsize=14)\n",
    "            ax2.set_ylabel(\"True Positive Rate (Recall)\",fontsize=14)\n",
    "            ax2.tick_params(labelsize=12)\n",
    "\n",
    "        plt.show()\n",
    "        \n",
    "    def show_all(self):\n",
    "        \n",
    "        \"\"\"Plot metrics chart and print metrics values.\n",
    "        *Confusion Matrix\n",
    "        *ROC Curve\n",
    "        *Recall\n",
    "        *Precision\n",
    "        *F1\n",
    "        \"\"\"\n",
    "        \n",
    "        self.show_charts()\n",
    "        self.show_metrics()\n",
    "           \n",
    "            "
   ]
  },
  {
   "cell_type": "code",
   "execution_count": 43,
   "id": "ab55d230",
   "metadata": {
    "hidden": true
   },
   "outputs": [],
   "source": [
    "metrics_test = metrics([1,0,0,1,0,0,1],[1,0,0,1,0,0,0])"
   ]
  },
  {
   "cell_type": "code",
   "execution_count": 46,
   "id": "5a5e37a0",
   "metadata": {
    "hidden": true
   },
   "outputs": [
    {
     "data": {
      "image/png": "[encoded data removed]",
      "text/plain": [
       "<Figure size 1080x360 with 3 Axes>"
      ]
     },
     "metadata": {
      "needs_background": "light"
     },
     "output_type": "display_data"
    },
    {
     "name": "stdout",
     "output_type": "stream",
     "text": [
      "Métrics:\n",
      "\n",
      "Recall: 0.667\n",
      "Precision: 1.0\n",
      "F1: 0.8\n",
      "AUC: 0.83\n"
     ]
    }
   ],
   "source": [
    "metrics_test.show_all()"
   ]
  },
  {
   "cell_type": "markdown",
   "id": "2561b9b5",
   "metadata": {},
   "source": [
    "# Building the model"
   ]
  },
  {
   "cell_type": "code",
   "execution_count": null,
   "id": "74807a1d",
   "metadata": {},
   "outputs": [],
   "source": []
  },
  {
   "cell_type": "code",
   "execution_count": null,
   "id": "5e9d506c",
   "metadata": {},
   "outputs": [],
   "source": []
  },
  {
   "cell_type": "code",
   "execution_count": null,
   "id": "beef31d7",
   "metadata": {},
   "outputs": [],
   "source": []
  },
  {
   "cell_type": "code",
   "execution_count": null,
   "id": "ebfbc567",
   "metadata": {},
   "outputs": [],
   "source": []
  }
 ],
 "metadata": {
  "kernelspec": {
   "display_name": "Python 3 (ipykernel)",
   "language": "python",
   "name": "python3"
  },
  "language_info": {
   "codemirror_mode": {
    "name": "ipython",
    "version": 3
   },
   "file_extension": ".py",
   "mimetype": "text/x-python",
   "name": "python",
   "nbconvert_exporter": "python",
   "pygments_lexer": "ipython3",
   "version": "3.9.7"
  },
  "toc": {
   "base_numbering": 1,
   "nav_menu": {},
   "number_sections": true,
   "sideBar": true,
   "skip_h1_title": false,
   "title_cell": "Table of Contents",
   "title_sidebar": "Contents",
   "toc_cell": false,
   "toc_position": {},
   "toc_section_display": true,
   "toc_window_display": false
  },
  "varInspector": {
   "cols": {
    "lenName": 16,
    "lenType": 16,
    "lenVar": 40
   },
   "kernels_config": {
    "python": {
     "delete_cmd_postfix": "",
     "delete_cmd_prefix": "del ",
     "library": "var_list.py",
     "varRefreshCmd": "print(var_dic_list())"
    },
    "r": {
     "delete_cmd_postfix": ") ",
     "delete_cmd_prefix": "rm(",
     "library": "var_list.r",
     "varRefreshCmd": "cat(var_dic_list()) "
    }
   },
   "types_to_exclude": [
    "module",
    "function",
    "builtin_function_or_method",
    "instance",
    "_Feature"
   ],
   "window_display": false
  }
 },
 "nbformat": 4,
 "nbformat_minor": 5
}
